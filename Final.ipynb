{
 "cells": [
  {
   "cell_type": "code",
   "execution_count": 1,
   "metadata": {},
   "outputs": [],
   "source": [
    "import pandas as pd\n",
    "import numpy as np\n",
    "import warnings\n",
    "import ast\n",
    "import datetime\n",
    "warnings.filterwarnings('ignore')\n"
   ]
  },
  {
   "attachments": {},
   "cell_type": "markdown",
   "metadata": {},
   "source": [
    "Cargamos las bases necesarias para el requerimiento"
   ]
  },
  {
   "cell_type": "code",
   "execution_count": 2,
   "metadata": {},
   "outputs": [],
   "source": [
    "movies = pd.read_csv('movies_dataset.csv')\n",
    "credits = pd.read_csv('credits.csv')"
   ]
  },
  {
   "attachments": {},
   "cell_type": "markdown",
   "metadata": {},
   "source": [
    "Los valores nulos de los campos revenue, budget se rellenan con el número 0.\n",
    "\n"
   ]
  },
  {
   "cell_type": "code",
   "execution_count": 3,
   "metadata": {},
   "outputs": [],
   "source": [
    "movies['revenue'].fillna(0, inplace=True)\n",
    "movies['budget'].fillna(0, inplace=True)"
   ]
  },
  {
   "attachments": {},
   "cell_type": "markdown",
   "metadata": {},
   "source": [
    "Se eliminan los duplicados de ambas bases de datos y se cambia el tipo de dato de la columna id de ambas bases y el tipo de dato Budget de la base movies. Se eliminan valores errados de movies. "
   ]
  },
  {
   "cell_type": "code",
   "execution_count": 4,
   "metadata": {},
   "outputs": [],
   "source": [
    "credits.drop_duplicates(['id'], inplace = True)\n",
    "credits['id'] = credits['id'].astype(int, copy=True, errors='raise')\n",
    "movies.drop_duplicates(['id'], inplace = True)\n",
    "movies.drop(movies[(movies['id'] == '1997-08-20') | (movies['id'] == '2014-01-01') | (movies['id'] == '2012-09-29')].index, inplace = True)\n",
    "movies['id'] = movies['id'].astype(int, copy=True, errors='raise')\n",
    "movies['budget'] = movies['budget'].astype(float, copy=True, errors='raise')\n"
   ]
  },
  {
   "attachments": {},
   "cell_type": "markdown",
   "metadata": {},
   "source": [
    "Se unen las bases a través del id de la película y se eliminan las columnas innecesarias para el análisis"
   ]
  },
  {
   "cell_type": "code",
   "execution_count": 5,
   "metadata": {},
   "outputs": [],
   "source": [
    "movies = movies.merge(credits, on = 'id')\n",
    "movies.drop(columns = ['homepage','tagline','video','imdb_id','adult','original_title','poster_path','homepage'], inplace =  True)"
   ]
  },
  {
   "attachments": {},
   "cell_type": "markdown",
   "metadata": {},
   "source": [
    "Ahora desanidamos las columnas crew y cast de la nueva base de datos"
   ]
  },
  {
   "cell_type": "code",
   "execution_count": 7,
   "metadata": {},
   "outputs": [],
   "source": [
    "def convert(object): # función para desanidar genero y obtener una lista con los generos así como \n",
    "    list = []        # Spoken_languaje\n",
    "    for i in ast.literal_eval(object):\n",
    "        list.append(i['name'])\n",
    "    \n",
    "    return list"
   ]
  },
  {
   "cell_type": "code",
   "execution_count": 8,
   "metadata": {},
   "outputs": [],
   "source": [
    "def convert_cast(object): #función para desaninar los 5 primeros actores pricipales de las peliculas\n",
    "    list = []\n",
    "    counter = 0\n",
    "    for i in ast.literal_eval(object):\n",
    "        if counter != 5:\n",
    "            list.append(i['name'])\n",
    "            counter += 1\n",
    "        else:\n",
    "            break\n",
    "    \n",
    "    return list"
   ]
  },
  {
   "cell_type": "code",
   "execution_count": 9,
   "metadata": {},
   "outputs": [],
   "source": [
    "def convert_direct(object): #Función para desanidar los directores de cada una de las películas\n",
    "    list = []\n",
    "    for i in ast.literal_eval(object):\n",
    "        if i['job'] == 'Director':\n",
    "            list.append(i['name'])\n",
    "            break\n",
    "    \n",
    "    return list"
   ]
  },
  {
   "attachments": {},
   "cell_type": "markdown",
   "metadata": {},
   "source": [
    "s las funciones creadas para desanidar y crear las listas correspondientes"
   ]
  },
  {
   "cell_type": "code",
   "execution_count": 10,
   "metadata": {},
   "outputs": [],
   "source": [
    "movies['genres'] = movies['genres'].apply(convert)\n",
    "movies['cast'] = movies['cast'].apply(convert_cast)\n",
    "movies['crew'] = movies['crew'].apply(convert_direct)\n",
    "movies.rename(columns={'crew':'Director'}, inplace = True)"
   ]
  },
  {
   "attachments": {},
   "cell_type": "markdown",
   "metadata": {},
   "source": [
    "Por último unimos los strig que tienen una separación o espacio entre palabras para mejorar la busqueda en las funciones 4 y 5 (Ejemplo: Tom Hanks - TomHanks)"
   ]
  },
  {
   "cell_type": "code",
   "execution_count": 11,
   "metadata": {},
   "outputs": [],
   "source": [
    "movies ['genres'] = movies['genres'].apply(lambda x:[i.replace(' ','') for i in x])\n",
    "movies['cast'] = movies['cast'].apply(lambda x:[i.replace(' ','') for i in x])\n",
    "movies['Director'] = movies['Director'].apply(lambda x:[i.replace(' ','') for i in x])"
   ]
  },
  {
   "attachments": {},
   "cell_type": "markdown",
   "metadata": {},
   "source": [
    "Las fechas, se cambian al formato datetime AAAA-mm-dd, además se crear la columna release_year donde extraerán el año de la fecha de estreno. Y además se eliminan los valores nulos del campo release_date.\n",
    "\n"
   ]
  },
  {
   "cell_type": "code",
   "execution_count": 12,
   "metadata": {},
   "outputs": [],
   "source": [
    "# Se crea la función de transformacion de strin a Datetime\n",
    "def str_to_date(time):\n",
    "    if len(time) < 10:\n",
    "        return None\n",
    "    else:\n",
    "        return datetime.datetime.strptime(time,'%Y-%m-%d')"
   ]
  },
  {
   "cell_type": "code",
   "execution_count": 13,
   "metadata": {},
   "outputs": [],
   "source": [
    "movies = movies.dropna(subset=['release_date'])\n",
    "movies['release_date'] = movies['release_date'].apply(str_to_date)\n",
    "movies['release_year'] = movies['release_date'].dt.year"
   ]
  },
  {
   "attachments": {},
   "cell_type": "markdown",
   "metadata": {},
   "source": [
    "Se crea la columna con el retorno de inversión, llamada return con los campos revenue y budget, dividiendo estas dos últimas revenue / budget, cuando no hay datos disponibles para calcularlo, se retorna cero tomar el valor 0."
   ]
  },
  {
   "cell_type": "code",
   "execution_count": 14,
   "metadata": {},
   "outputs": [],
   "source": [
    "movies['return'] = round(movies['revenue'] / movies['budget'], 6) #división\n",
    "movies['return'] = movies['return'].fillna(0) #retornar cero en los nulos\n",
    "movies.loc[movies['return']==np.inf, 'return'] = 0 #retornar cero en los inf\n",
    "movies['Director'] = movies['Director'].apply(lambda x: ' '.join(x)) #convertir a String\n",
    "movies['cast'] = movies['cast'].apply(lambda x: ' '.join(x)) #convertir a String"
   ]
  },
  {
   "cell_type": "code",
   "execution_count": 15,
   "metadata": {},
   "outputs": [],
   "source": [
    "movies['popularity'] = movies['popularity'].astype(float)\n",
    "movies['genres'] = movies['genres'].apply(lambda x: ' '.join(x)) \n",
    "movies['tags'] =  movies['overview'] + movies['genres'] + ' '+ movies['cast'] + movies['Director']"
   ]
  },
  {
   "cell_type": "code",
   "execution_count": 15,
   "metadata": {},
   "outputs": [],
   "source": [
    "# movies.to_csv('movies_f.csv') #generamos la base para utilizar en FastApi"
   ]
  },
  {
   "attachments": {},
   "cell_type": "markdown",
   "metadata": {},
   "source": [
    "Creación de las funciones\n",
    "\n",
    "Funcion 1:\n",
    "\n",
    "def cantidad_filmaciones_mes( Mes ): Se ingresa un mes en idioma Español. Debe devolver la cantidad de películas que fueron estrenadas \n",
    "en el mes consultado en la totalidad del dataset."
   ]
  },
  {
   "cell_type": "code",
   "execution_count": 16,
   "metadata": {},
   "outputs": [],
   "source": [
    "def cnt_of_films_month(Mes):\n",
    "    \n",
    "    months = [\"enero\", \"febrero\", \"marzo\", \"abril\", \"mayo\"\n",
    "          , \"junio\", \"julio\", \"agosto\", \"septiembre\", \n",
    "          \"octubre\", \"noviembre\", \"diciembre\"]\n",
    "\n",
    "    Mes1 = Mes.lower()\n",
    "    for j in months:\n",
    "\n",
    "        if Mes1 == j:\n",
    "            c = months.index(j) + 1\n",
    "\n",
    "    a = 0\n",
    "    for mes in movies['release_date'].dt.month:\n",
    "        if mes == c:\n",
    "            a = a+1\n",
    "\n",
    "    return {'mes':Mes, 'cantidad':a} "
   ]
  },
  {
   "cell_type": "code",
   "execution_count": 17,
   "metadata": {},
   "outputs": [
    {
     "name": "stdout",
     "output_type": "stream",
     "text": [
      "{'mes': 'Marzo', 'cantidad': 3549}\n"
     ]
    }
   ],
   "source": [
    "#Prueba de la función\n",
    "Mes = 'Marzo'\n",
    "result = cnt_of_films_month(Mes)\n",
    "print(result)"
   ]
  },
  {
   "attachments": {},
   "cell_type": "markdown",
   "metadata": {},
   "source": [
    "Función 2\n",
    "\n",
    "def cantidad_filmaciones_dia( Dia ): Se ingresa un día en idioma Español. Debe devolver la cantidad de películas que fueron estrenadas en día consultado en la totalidad del dataset."
   ]
  },
  {
   "cell_type": "code",
   "execution_count": 18,
   "metadata": {},
   "outputs": [],
   "source": [
    "def cnt_of_films_day(Dia):\n",
    "\n",
    "    days = ['lunes', 'martes', 'miercoles', 'jueves', 'viernes','sabado','domingo']\n",
    "    Dia1 = Dia.lower()\n",
    "    for k in days:\n",
    "        if k == Dia1:\n",
    "            c = days.index(k)\n",
    "    \n",
    "    b=0\n",
    "    for day in movies['release_date'].dt.weekday:\n",
    "        if day == c:\n",
    "            b = b+1\n",
    "\n",
    "    return {'dia':Dia, 'cantidad':b} "
   ]
  },
  {
   "cell_type": "code",
   "execution_count": 19,
   "metadata": {},
   "outputs": [
    {
     "name": "stdout",
     "output_type": "stream",
     "text": [
      "{'dia': 'miercoles', 'cantidad': 7027}\n"
     ]
    }
   ],
   "source": [
    "#Prueba de la función\n",
    "Dia = 'miercoles'\n",
    "retorno = cnt_of_films_day(Dia)\n",
    "print(retorno)"
   ]
  },
  {
   "attachments": {},
   "cell_type": "markdown",
   "metadata": {},
   "source": [
    "Funcion 3:\n",
    "\n",
    "def score_titulo( titulo_de_la_filmación ): Se ingresa el título de una filmación esperando como respuesta el título, el año de estreno y el score."
   ]
  },
  {
   "cell_type": "code",
   "execution_count": 20,
   "metadata": {},
   "outputs": [],
   "source": [
    "def score_title(Titulo):\n",
    "    a = 0\n",
    "    Titulo = Titulo.lower()\n",
    "    for film in movies['title']:\n",
    "        if film.lower() == Titulo:\n",
    "            x = movies[['release_date','title','popularity']].loc[movies['title'] == film]\n",
    "            a += 1 \n",
    "    \n",
    "    \n",
    "    return f'Existen {a} Filmes con el título {Titulo}', x"
   ]
  },
  {
   "cell_type": "code",
   "execution_count": 21,
   "metadata": {},
   "outputs": [
    {
     "name": "stdout",
     "output_type": "stream",
     "text": [
      "('Existen 4 Filmes con el título robin hood',       release_date       title  popularity\n",
      "2916    1973-11-08  Robin Hood   11.179855\n",
      "12259   1922-08-18  Robin Hood    0.611926\n",
      "15196   2010-05-12  Robin Hood   10.568120\n",
      "45426   1991-05-13  Robin Hood    5.683753)\n"
     ]
    }
   ],
   "source": [
    "#Prueba de la función\n",
    "Titulo = 'Robin Hood'\n",
    "filme = score_title(Titulo)\n",
    "print(filme)"
   ]
  },
  {
   "attachments": {},
   "cell_type": "markdown",
   "metadata": {},
   "source": [
    "Función 4:\n",
    "\n",
    "def votos_titulo( titulo_de_la_filmación ): Se ingresa el título de una filmación esperando como respuesta el título, la cantidad de votos y el valor promedio de las votaciones. La misma variable deberá de contar con al menos 2000 valoraciones, caso contrario, debemos contar con un mensaje avisando que no cumple esta condición y que por ende, no se devuelve ningun valor."
   ]
  },
  {
   "cell_type": "code",
   "execution_count": 22,
   "metadata": {},
   "outputs": [],
   "source": [
    "def vote_title(Titulo_filmacion):\n",
    "    \n",
    "    Titulo_filmacion = Titulo_filmacion.lower()\n",
    "    a = 0\n",
    "    for film in movies['title']:\n",
    "        if film.lower() == Titulo_filmacion:\n",
    "            x = movies[['title','vote_count','vote_average']].loc[movies['title'] == film]\n",
    "            a = a + 1  \n",
    "\n",
    "    if a > 1:\n",
    "        if (x['vote_count'].sum() >= 2000):\n",
    "            y = x['vote_count'].sum()\n",
    "            z = x['vote_average'].mean()\n",
    "            return {'Titulo':Titulo, 'Voto total':y, 'Voto promedio':z}\n",
    "        else:\n",
    "            return 'No es posible hacer el calculo ya que la suma de votos es menor a 2000'\n",
    "    else:\n",
    "        if x['vote_count'].values[0] >= 2000:\n",
    "            y = x['vote_count'].values[0]\n",
    "            z = x['vote_average'].values[0]\n",
    "            return {'Titulo':Titulo, 'Voto total':y, 'Voto promedio':z}\n",
    "        else:\n",
    "            return 'No es posible hacer el calculo ya que la suma de votos es menor a 2000'"
   ]
  },
  {
   "cell_type": "code",
   "execution_count": 23,
   "metadata": {},
   "outputs": [
    {
     "name": "stdout",
     "output_type": "stream",
     "text": [
      "{'Titulo': 'Robin Hood', 'Voto total': 2623.0, 'Voto promedio': 6.2}\n"
     ]
    }
   ],
   "source": [
    "#Prueba de la función\n",
    "Titulo_filmacion = 'Robin Hood'\n",
    "result1 = vote_title(Titulo_filmacion)\n",
    "print(result1)"
   ]
  },
  {
   "attachments": {},
   "cell_type": "markdown",
   "metadata": {},
   "source": [
    "Función 5:\n",
    "\n",
    "def get_actor( nombre_actor ): Se ingresa el nombre de un actor que se encuentre dentro de un dataset debiendo devolver el éxito del mismo medido a través del retorno. Además, la cantidad de películas que en las que ha participado y el promedio de retorno. La definición no deberá considerar directores."
   ]
  },
  {
   "cell_type": "code",
   "execution_count": 25,
   "metadata": {},
   "outputs": [],
   "source": [
    "def get_actor(nombre_actor1):\n",
    "    nombre_actor = nombre_actor1.replace(' ', '')\n",
    "    actor_films = movies[movies['cast'].str.contains(nombre_actor, case=False)]['return']\n",
    "    cant_movies = actor_films.count()\n",
    "    return_t = actor_films.sum()\n",
    "    avg_return = return_t / cant_movies\n",
    "    if cant_movies > 0:\n",
    "        return {'Actor':nombre_actor1, 'cantidad_movies':int(cant_movies), 'retorno_total':int(return_t), 'retorno_promedio':int(avg_return)}\n",
    "    else:\n",
    "        return f\"No se encontraron registros para el actor {nombre_actor1}.\"\n",
    "  "
   ]
  },
  {
   "cell_type": "code",
   "execution_count": 26,
   "metadata": {},
   "outputs": [
    {
     "name": "stdout",
     "output_type": "stream",
     "text": [
      "{'Actor': 'Tom Hanks', 'cantidad_movies': 58, 'retorno_total': 167, 'retorno_promedio': 2}\n"
     ]
    }
   ],
   "source": [
    "nombre_actor = 'Tom Hanks'\n",
    "resultado = get_actor(nombre_actor)\n",
    "print(resultado)"
   ]
  },
  {
   "attachments": {},
   "cell_type": "markdown",
   "metadata": {},
   "source": [
    "Funcion 6:\n",
    "def get_director( nombre_director ): Se ingresa el nombre de un director que se encuentre dentro de un dataset debiendo devolver el éxito del mismo medido a través del retorno. Además, deberá devolver el nombre de cada película con la fecha de lanzamiento, retorno individual, costo y ganancia de la misma.\n"
   ]
  },
  {
   "cell_type": "code",
   "execution_count": 27,
   "metadata": {},
   "outputs": [],
   "source": [
    "def get_director(nombre_director1):\n",
    "    nombre_director = nombre_director1.replace(' ', '')\n",
    "    films_dire = movies[movies['Director'].str.contains(nombre_director, case=False)]\n",
    "    cant_movies = films_dire.shape[0]\n",
    "\n",
    "    if cant_movies > 0:\n",
    "        return_t = films_dire['return'].sum()\n",
    "        dir_sucess = return_t / cant_movies\n",
    "        films = films_dire[['title', 'release_date', 'return', 'budget', 'revenue']]\n",
    "        films = films.reset_index(drop=True)\n",
    "        print(f\"El director {nombre_director} ha dirigido {cant_movies} películas. Su éxito a generado un retorno promedio de {dir_sucess:.2f} por pelicula. Las películas dirigidas son:\")\n",
    "        return films\n",
    "    else:\n",
    "        return f\"No se encontraron registros para el director {nombre_director}.\"\n",
    "\n"
   ]
  },
  {
   "cell_type": "code",
   "execution_count": 28,
   "metadata": {},
   "outputs": [
    {
     "name": "stdout",
     "output_type": "stream",
     "text": [
      "El director ForestWhitaker ha dirigido 4 películas. Su éxito a generado un retorno promedio de 1.27 por pelicula. Las películas dirigidas son:\n",
      "               title release_date   return      budget     revenue\n",
      "0  Waiting to Exhale   1995-12-22  5.09076  16000000.0  81452156.0\n",
      "1        Hope Floats   1998-05-29  0.00000         0.0         0.0\n",
      "2     First Daughter   2004-09-24  0.00000  30000000.0         0.0\n",
      "3           Strapped   1993-08-21  0.00000         0.0         0.0\n"
     ]
    }
   ],
   "source": [
    "nombre = \"Forest Whitaker\"\n",
    "result = get_director(nombre)\n",
    "print(result)"
   ]
  },
  {
   "attachments": {},
   "cell_type": "markdown",
   "metadata": {},
   "source": [
    "Comenzamos la etapa de Machine Learning. Se realiza un sistema de recomendación de películas; por lo cuál, tenemos un sistema no supervizado."
   ]
  },
  {
   "attachments": {},
   "cell_type": "markdown",
   "metadata": {},
   "source": [
    "Se realiza un corto análisis de la variable popularidad para ver si se utilizan todos los registros a través, de los valores atípicos."
   ]
  },
  {
   "cell_type": "code",
   "execution_count": 29,
   "metadata": {},
   "outputs": [
    {
     "name": "stdout",
     "output_type": "stream",
     "text": [
      "-15.106819914845456 20.959315869724715\n"
     ]
    }
   ],
   "source": [
    "li_inf = movies['popularity'].mean() - 3 * movies['popularity'].std()\n",
    "li_Sup = movies['popularity'].mean() + 3 * movies['popularity'].std()\n",
    "print(li_inf, li_Sup)"
   ]
  },
  {
   "cell_type": "code",
   "execution_count": 30,
   "metadata": {},
   "outputs": [],
   "source": [
    "import seaborn as sns"
   ]
  },
  {
   "attachments": {},
   "cell_type": "markdown",
   "metadata": {},
   "source": [
    "Se puede observar que existen valores atípicos que superan los límites antes determinados."
   ]
  },
  {
   "cell_type": "code",
   "execution_count": 31,
   "metadata": {},
   "outputs": [
    {
     "data": {
      "text/plain": [
       "<Axes: xlabel='id', ylabel='popularity'>"
      ]
     },
     "execution_count": 31,
     "metadata": {},
     "output_type": "execute_result"
    },
    {
     "data": {
      "image/png": "[encoded data removed]",
      "text/plain": [
       "<Figure size 640x480 with 1 Axes>"
      ]
     },
     "metadata": {},
     "output_type": "display_data"
    }
   ],
   "source": [
    "sns.scatterplot(x =movies['id'], y = movies['popularity'])"
   ]
  },
  {
   "cell_type": "code",
   "execution_count": 33,
   "metadata": {},
   "outputs": [
    {
     "data": {
      "text/plain": [
       "<Axes: xlabel='release_year', ylabel='popularity'>"
      ]
     },
     "execution_count": 33,
     "metadata": {},
     "output_type": "execute_result"
    },
    {
     "data": {
      "image/png": "[encoded data removed]",
      "text/plain": [
       "<Figure size 640x480 with 1 Axes>"
      ]
     },
     "metadata": {},
     "output_type": "display_data"
    }
   ],
   "source": [
    "sns.barplot(data=movies, x = 'release_year', y = 'popularity')"
   ]
  },
  {
   "attachments": {},
   "cell_type": "markdown",
   "metadata": {},
   "source": [
    "se observa que a menos año menos popularidad tienen las peliculas aparte de los casos atípicos"
   ]
  },
  {
   "cell_type": "code",
   "execution_count": 32,
   "metadata": {},
   "outputs": [
    {
     "data": {
      "text/plain": [
       "<Axes: xlabel='release_year', ylabel='count'>"
      ]
     },
     "execution_count": 32,
     "metadata": {},
     "output_type": "execute_result"
    },
    {
     "data": {
      "image/png": "[encoded data removed]",
      "text/plain": [
       "<Figure size 640x480 with 1 Axes>"
      ]
     },
     "metadata": {},
     "output_type": "display_data"
    }
   ],
   "source": [
    "sns.countplot(data = movies, x ='release_year', width=0.9)\n"
   ]
  },
  {
   "cell_type": "code",
   "execution_count": 33,
   "metadata": {},
   "outputs": [],
   "source": [
    "movies['genres'] = movies['genres'].apply(lambda x: ' '.join(x)) \n",
    "movies['tags'] =  movies['overview'] + movies['genres'] + ' '+ movies['cast'] + movies['Director']\n",
    "movies_new = movies[['id', 'title', 'tags', 'popularity', 'release_year']]\n",
    "movies_new = movies_new.dropna(subset=['tags'])"
   ]
  },
  {
   "cell_type": "code",
   "execution_count": 34,
   "metadata": {},
   "outputs": [
    {
     "data": {
      "text/html": [
       "<div>\n",
       "<style scoped>\n",
       "    .dataframe tbody tr th:only-of-type {\n",
       "        vertical-align: middle;\n",
       "    }\n",
       "\n",
       "    .dataframe tbody tr th {\n",
       "        vertical-align: top;\n",
       "    }\n",
       "\n",
       "    .dataframe thead th {\n",
       "        text-align: right;\n",
       "    }\n",
       "</style>\n",
       "<table border=\"1\" class=\"dataframe\">\n",
       "  <thead>\n",
       "    <tr style=\"text-align: right;\">\n",
       "      <th></th>\n",
       "      <th>id</th>\n",
       "      <th>title</th>\n",
       "      <th>tags</th>\n",
       "      <th>popularity</th>\n",
       "      <th>release_year</th>\n",
       "    </tr>\n",
       "  </thead>\n",
       "  <tbody>\n",
       "    <tr>\n",
       "      <th>0</th>\n",
       "      <td>862</td>\n",
       "      <td>Toy Story</td>\n",
       "      <td>Led by Woody, Andy's toys live happily in his ...</td>\n",
       "      <td>21.946943</td>\n",
       "      <td>1995</td>\n",
       "    </tr>\n",
       "    <tr>\n",
       "      <th>1</th>\n",
       "      <td>8844</td>\n",
       "      <td>Jumanji</td>\n",
       "      <td>When siblings Judy and Peter discover an encha...</td>\n",
       "      <td>17.015539</td>\n",
       "      <td>1995</td>\n",
       "    </tr>\n",
       "    <tr>\n",
       "      <th>2</th>\n",
       "      <td>15602</td>\n",
       "      <td>Grumpier Old Men</td>\n",
       "      <td>A family wedding reignites the ancient feud be...</td>\n",
       "      <td>11.712900</td>\n",
       "      <td>1995</td>\n",
       "    </tr>\n",
       "    <tr>\n",
       "      <th>3</th>\n",
       "      <td>31357</td>\n",
       "      <td>Waiting to Exhale</td>\n",
       "      <td>Cheated on, mistreated and stepped on, the wom...</td>\n",
       "      <td>3.859495</td>\n",
       "      <td>1995</td>\n",
       "    </tr>\n",
       "    <tr>\n",
       "      <th>4</th>\n",
       "      <td>11862</td>\n",
       "      <td>Father of the Bride Part II</td>\n",
       "      <td>Just when George Banks has recovered from his ...</td>\n",
       "      <td>8.387519</td>\n",
       "      <td>1995</td>\n",
       "    </tr>\n",
       "    <tr>\n",
       "      <th>...</th>\n",
       "      <td>...</td>\n",
       "      <td>...</td>\n",
       "      <td>...</td>\n",
       "      <td>...</td>\n",
       "      <td>...</td>\n",
       "    </tr>\n",
       "    <tr>\n",
       "      <th>45426</th>\n",
       "      <td>30840</td>\n",
       "      <td>Robin Hood</td>\n",
       "      <td>Yet another version of the classic epic, with ...</td>\n",
       "      <td>5.683753</td>\n",
       "      <td>1991</td>\n",
       "    </tr>\n",
       "    <tr>\n",
       "      <th>45428</th>\n",
       "      <td>111109</td>\n",
       "      <td>Century of Birthing</td>\n",
       "      <td>An artist struggles to finish his work while a...</td>\n",
       "      <td>0.178241</td>\n",
       "      <td>2011</td>\n",
       "    </tr>\n",
       "    <tr>\n",
       "      <th>45429</th>\n",
       "      <td>67758</td>\n",
       "      <td>Betrayal</td>\n",
       "      <td>When one of her hits goes wrong, a professiona...</td>\n",
       "      <td>0.903007</td>\n",
       "      <td>2003</td>\n",
       "    </tr>\n",
       "    <tr>\n",
       "      <th>45430</th>\n",
       "      <td>227506</td>\n",
       "      <td>Satan Triumphant</td>\n",
       "      <td>In a small town live two brothers, one a minis...</td>\n",
       "      <td>0.003503</td>\n",
       "      <td>1917</td>\n",
       "    </tr>\n",
       "    <tr>\n",
       "      <th>45431</th>\n",
       "      <td>461257</td>\n",
       "      <td>Queerama</td>\n",
       "      <td>50 years after decriminalisation of homosexual...</td>\n",
       "      <td>0.163015</td>\n",
       "      <td>2017</td>\n",
       "    </tr>\n",
       "  </tbody>\n",
       "</table>\n",
       "<p>44404 rows × 5 columns</p>\n",
       "</div>"
      ],
      "text/plain": [
       "           id                        title   \n",
       "0         862                    Toy Story  \\\n",
       "1        8844                      Jumanji   \n",
       "2       15602             Grumpier Old Men   \n",
       "3       31357            Waiting to Exhale   \n",
       "4       11862  Father of the Bride Part II   \n",
       "...       ...                          ...   \n",
       "45426   30840                   Robin Hood   \n",
       "45428  111109          Century of Birthing   \n",
       "45429   67758                     Betrayal   \n",
       "45430  227506             Satan Triumphant   \n",
       "45431  461257                     Queerama   \n",
       "\n",
       "                                                    tags  popularity   \n",
       "0      Led by Woody, Andy's toys live happily in his ...   21.946943  \\\n",
       "1      When siblings Judy and Peter discover an encha...   17.015539   \n",
       "2      A family wedding reignites the ancient feud be...   11.712900   \n",
       "3      Cheated on, mistreated and stepped on, the wom...    3.859495   \n",
       "4      Just when George Banks has recovered from his ...    8.387519   \n",
       "...                                                  ...         ...   \n",
       "45426  Yet another version of the classic epic, with ...    5.683753   \n",
       "45428  An artist struggles to finish his work while a...    0.178241   \n",
       "45429  When one of her hits goes wrong, a professiona...    0.903007   \n",
       "45430  In a small town live two brothers, one a minis...    0.003503   \n",
       "45431  50 years after decriminalisation of homosexual...    0.163015   \n",
       "\n",
       "       release_year  \n",
       "0              1995  \n",
       "1              1995  \n",
       "2              1995  \n",
       "3              1995  \n",
       "4              1995  \n",
       "...             ...  \n",
       "45426          1991  \n",
       "45428          2011  \n",
       "45429          2003  \n",
       "45430          1917  \n",
       "45431          2017  \n",
       "\n",
       "[44404 rows x 5 columns]"
      ]
     },
     "execution_count": 34,
     "metadata": {},
     "output_type": "execute_result"
    }
   ],
   "source": [
    "movies_new"
   ]
  },
  {
   "cell_type": "code",
   "execution_count": 35,
   "metadata": {},
   "outputs": [],
   "source": [
    "from nltk.stem.porter import PorterStemmer\n",
    "ps = PorterStemmer()\n"
   ]
  },
  {
   "attachments": {},
   "cell_type": "markdown",
   "metadata": {},
   "source": [
    "Creamos la función Stem, esta función modifica las palabras para evitar las conjugaciones de la misma como love, loved, loving...etc."
   ]
  },
  {
   "cell_type": "code",
   "execution_count": 36,
   "metadata": {},
   "outputs": [],
   "source": [
    "def stem(text):\n",
    "    list1 = []\n",
    "    for i in text.split():\n",
    "        list1.append(ps.stem(i))\n",
    "    \n",
    "    return \" \".join(list1)"
   ]
  },
  {
   "attachments": {},
   "cell_type": "markdown",
   "metadata": {},
   "source": [
    "Quitamos los registro con popularidad menos a 0.5 y año mayor a 1990"
   ]
  },
  {
   "cell_type": "code",
   "execution_count": 69,
   "metadata": {},
   "outputs": [
    {
     "data": {
      "text/plain": [
       "17079"
      ]
     },
     "execution_count": 69,
     "metadata": {},
     "output_type": "execute_result"
    }
   ],
   "source": [
    "#movies_new['tags'] = movies_new['tags'].apply(stem)\n",
    "#movies_p = movies_new.head(20000) #selecciono una muestra de 20000 segun fecha\n",
    "movies_new.apply(lambda x: (x['release_year'] > 1990) & (x['popularity'] > 1 ), axis=1).sum()"
   ]
  },
  {
   "cell_type": "code",
   "execution_count": 68,
   "metadata": {},
   "outputs": [],
   "source": [
    "movies_p = movies_new.loc[(movies_new['release_year'] > 1990) & (movies_new['popularity'] > 1 )]"
   ]
  },
  {
   "cell_type": "code",
   "execution_count": 70,
   "metadata": {},
   "outputs": [],
   "source": [
    "#movies_p.to_csv('movies_p.csv') #Se exporta la base para trabajar en FastAPI"
   ]
  },
  {
   "cell_type": "code",
   "execution_count": 42,
   "metadata": {},
   "outputs": [
    {
     "data": {
      "text/plain": [
       "array(['000', '10', '100', ..., 'zone', 'zoo', 'zooeydeschanel'],\n",
       "      dtype=object)"
      ]
     },
     "execution_count": 42,
     "metadata": {},
     "output_type": "execute_result"
    }
   ],
   "source": [
    "from sklearn.feature_extraction.text import CountVectorizer\n",
    "cv = CountVectorizer(max_features= 5000, stop_words='english')\n",
    "vector = cv.fit_transform(movies_p['tags']).toarray()\n",
    "cv.get_feature_names_out()"
   ]
  },
  {
   "attachments": {},
   "cell_type": "markdown",
   "metadata": {},
   "source": [
    "Realizamos la vectorización para encontrar la similitud entre las palabras para cada una de las películas y de este modo relaizar la recomendación."
   ]
  },
  {
   "cell_type": "code",
   "execution_count": 43,
   "metadata": {},
   "outputs": [],
   "source": [
    "from sklearn.metrics.pairwise import cosine_similarity\n",
    "similarity = cosine_similarity(vector)"
   ]
  },
  {
   "attachments": {},
   "cell_type": "markdown",
   "metadata": {},
   "source": [
    "Revisamos el peso del array similarity "
   ]
  },
  {
   "cell_type": "code",
   "execution_count": 55,
   "metadata": {},
   "outputs": [],
   "source": [
    "import sys"
   ]
  },
  {
   "cell_type": "code",
   "execution_count": 56,
   "metadata": {},
   "outputs": [
    {
     "name": "stdout",
     "output_type": "stream",
     "text": [
      "1576074496\n"
     ]
    }
   ],
   "source": [
    "print(sys.getsizeof(similarity)) # el vector pesa 1.57 Gigabytes"
   ]
  },
  {
   "cell_type": "code",
   "execution_count": 57,
   "metadata": {},
   "outputs": [],
   "source": [
    "def movie_recommend(titulo):\n",
    "    movie_index = movies_p[movies_p['title']  == titulo].index[0]\n",
    "    distances = similarity[movie_index]\n",
    "    movie_list = sorted(list(enumerate(distances)),reverse = True, key = lambda x:x[1])[1:6]\n",
    "    list_p = []\n",
    "    for i in movie_list:\n",
    "        \n",
    "        j = movies_p.iloc[i[0]].title\n",
    "        list_p.append(j)\n",
    "    return {'lista recomendada': list_p}\n"
   ]
  },
  {
   "cell_type": "code",
   "execution_count": 58,
   "metadata": {},
   "outputs": [
    {
     "name": "stdout",
     "output_type": "stream",
     "text": [
      "{'lista recomendada': ['Toy Story 2', \"Harry Potter and the Philosopher's Stone\", 'Carried Away', 'Toy Story 3', 'Sold Out: A Threevening with Kevin Smith']}\n"
     ]
    }
   ],
   "source": [
    "titulo = 'Toy Story'\n",
    "resultado = movie_recommend(titulo)\n",
    "print(resultado)"
   ]
  },
  {
   "attachments": {},
   "cell_type": "markdown",
   "metadata": {},
   "source": [
    "Nueva función de recomendación con todos los registros sin aplicar el filtro de popularidad. Pupularidad se utiliza para la mejor recomendación."
   ]
  },
  {
   "cell_type": "code",
   "execution_count": 63,
   "metadata": {},
   "outputs": [],
   "source": [
    "from sklearn.feature_extraction.text import TfidfVectorizer\n"
   ]
  },
  {
   "cell_type": "code",
   "execution_count": 72,
   "metadata": {},
   "outputs": [],
   "source": [
    "def recomendacion2(titulo):\n",
    "    vectorizer = TfidfVectorizer(ngram_range=(1,2))\n",
    "    tfid = vectorizer.fit_transform(movies_new['tags'])\n",
    "    query = vectorizer.transform([titulo])\n",
    "    similar = cosine_similarity(query,tfid).flatten()\n",
    "\n",
    "    ind_simi = np.argpartition(similar, -50)[-50:]\n",
    "    simil = movies_new.iloc[ind_simi]\n",
    "\n",
    "    sort_simil = simil.sort_values(by ='popularity', ascending = False)\n",
    "\n",
    "    popular_simil = sort_simil.head(5)\n",
    "    resultado_1 = popular_simil['title'].astype(str) \n",
    "\n",
    "    return resultado_1"
   ]
  },
  {
   "cell_type": "code",
   "execution_count": 73,
   "metadata": {},
   "outputs": [
    {
     "data": {
      "text/plain": [
       "2996                Toy Story 2\n",
       "15342               Toy Story 3\n",
       "2285     Santa Claus: The Movie\n",
       "24504         Hawaiian Vacation\n",
       "1810             Small Soldiers\n",
       "Name: title, dtype: object"
      ]
     },
     "execution_count": 73,
     "metadata": {},
     "output_type": "execute_result"
    }
   ],
   "source": [
    "recomendacion2('Toy Story')"
   ]
  }
 ],
 "metadata": {
  "kernelspec": {
   "display_name": "Python 3",
   "language": "python",
   "name": "python3"
  },
  "language_info": {
   "codemirror_mode": {
    "name": "ipython",
    "version": 3
   },
   "file_extension": ".py",
   "mimetype": "text/x-python",
   "name": "python",
   "nbconvert_exporter": "python",
   "pygments_lexer": "ipython3",
   "version": "3.11.3"
  },
  "orig_nbformat": 4
 },
 "nbformat": 4,
 "nbformat_minor": 2
}

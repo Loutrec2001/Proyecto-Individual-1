{
 "cells": [
  {
   "cell_type": "code",
   "execution_count": 2,
   "metadata": {},
   "outputs": [],
   "source": [
    "import pandas as pd\n",
    "import numpy as np\n",
    "import warnings\n",
    "import ast\n",
    "import datetime\n",
    "warnings.filterwarnings('ignore')\n"
   ]
  },
  {
   "attachments": {},
   "cell_type": "markdown",
   "metadata": {},
   "source": [
    "Cargamos las bases necesarias para el requerimiento"
   ]
  },
  {
   "cell_type": "code",
   "execution_count": 3,
   "metadata": {},
   "outputs": [],
   "source": [
    "movies = pd.read_csv('movies_dataset.csv')\n",
    "credits = pd.read_csv('credits.csv')"
   ]
  },
  {
   "attachments": {},
   "cell_type": "markdown",
   "metadata": {},
   "source": [
    "Los valores nulos de los campos revenue, budget se rellenan con el número 0.\n",
    "\n"
   ]
  },
  {
   "cell_type": "code",
   "execution_count": 4,
   "metadata": {},
   "outputs": [],
   "source": [
    "movies['revenue'].fillna(0, inplace=True)\n",
    "movies['budget'].fillna(0, inplace=True)"
   ]
  },
  {
   "attachments": {},
   "cell_type": "markdown",
   "metadata": {},
   "source": [
    "Se eliminan los duplicados de ambas bases de datos y se cambia el tipo de dato de la columna id de ambas bases y el tipo de dato Budget de la base movies. Se eliminan valores errados de movies. "
   ]
  },
  {
   "cell_type": "code",
   "execution_count": 5,
   "metadata": {},
   "outputs": [],
   "source": [
    "credits.drop_duplicates(['id'], inplace = True)\n",
    "credits['id'] = credits['id'].astype(int, copy=True, errors='raise')\n",
    "movies.drop_duplicates(['id'], inplace = True)\n",
    "movies.drop(movies[(movies['id'] == '1997-08-20') | (movies['id'] == '2014-01-01') | (movies['id'] == '2012-09-29')].index, inplace = True)\n",
    "movies['id'] = movies['id'].astype(int, copy=True, errors='raise')\n",
    "movies['budget'] = movies['budget'].astype(float, copy=True, errors='raise')\n"
   ]
  },
  {
   "attachments": {},
   "cell_type": "markdown",
   "metadata": {},
   "source": [
    "Se unen las bases a través del id de la película y se eliminan las columnas innecesarias para el análisis"
   ]
  },
  {
   "cell_type": "code",
   "execution_count": 6,
   "metadata": {},
   "outputs": [],
   "source": [
    "movies = movies.merge(credits, on = 'id')\n",
    "movies.drop(columns = ['homepage','tagline','video','imdb_id','adult','original_title','poster_path','homepage'], inplace =  True)"
   ]
  },
  {
   "attachments": {},
   "cell_type": "markdown",
   "metadata": {},
   "source": [
    "Ahora desanidamos las columnas crew y cast de la nueva base de datos"
   ]
  },
  {
   "cell_type": "code",
   "execution_count": 7,
   "metadata": {},
   "outputs": [],
   "source": [
    "def convert(object): # función para desanidar genero y obtener una lista con los generos así como \n",
    "    list = []        # Spoken_languaje\n",
    "    for i in ast.literal_eval(object):\n",
    "        list.append(i['name'])\n",
    "    \n",
    "    return list"
   ]
  },
  {
   "cell_type": "code",
   "execution_count": 8,
   "metadata": {},
   "outputs": [],
   "source": [
    "def convert_cast(object): #función para desaninar los 5 primeros actores pricipales de las peliculas\n",
    "    list = []\n",
    "    counter = 0\n",
    "    for i in ast.literal_eval(object):\n",
    "        if counter != 5:\n",
    "            list.append(i['name'])\n",
    "            counter += 1\n",
    "        else:\n",
    "            break\n",
    "    \n",
    "    return list"
   ]
  },
  {
   "cell_type": "code",
   "execution_count": 9,
   "metadata": {},
   "outputs": [],
   "source": [
    "def convert_direct(object): #Función para desanidar los directores de cada una de las películas\n",
    "    list = []\n",
    "    for i in ast.literal_eval(object):\n",
    "        if i['job'] == 'Director':\n",
    "            list.append(i['name'])\n",
    "            break\n",
    "    \n",
    "    return list"
   ]
  },
  {
   "attachments": {},
   "cell_type": "markdown",
   "metadata": {},
   "source": [
    "Aplicamos las funciones creadas para denaidar y crear las listas correspondientes"
   ]
  },
  {
   "cell_type": "code",
   "execution_count": 10,
   "metadata": {},
   "outputs": [],
   "source": [
    "movies['genres'] = movies['genres'].apply(convert)\n",
    "movies['cast'] = movies['cast'].apply(convert_cast)\n",
    "movies['crew'] = movies['crew'].apply(convert_direct)\n",
    "movies.rename(columns={'crew':'Director'}, inplace = True)"
   ]
  },
  {
   "attachments": {},
   "cell_type": "markdown",
   "metadata": {},
   "source": [
    "Por último unimos los strig que tienen una separación o espacio entre palabras para mejorar la busqueda en las funciones 4 y 5 (Ejemplo: Tom Hanks - TomHanks)"
   ]
  },
  {
   "cell_type": "code",
   "execution_count": 11,
   "metadata": {},
   "outputs": [],
   "source": [
    "movies ['genres'] = movies['genres'].apply(lambda x:[i.replace(' ','') for i in x])\n",
    "movies['cast'] = movies['cast'].apply(lambda x:[i.replace(' ','') for i in x])\n",
    "movies['Director'] = movies['Director'].apply(lambda x:[i.replace(' ','') for i in x])"
   ]
  },
  {
   "attachments": {},
   "cell_type": "markdown",
   "metadata": {},
   "source": [
    "Las fechas, se cambian al formato datetime AAAA-mm-dd, además se crear la columna release_year donde extraerán el año de la fecha de estreno. Y además se eliminan los valores nulos del campo release_date.\n",
    "\n"
   ]
  },
  {
   "cell_type": "code",
   "execution_count": 12,
   "metadata": {},
   "outputs": [],
   "source": [
    "# Se crea la función de transformacion de strin a Datetime\n",
    "def str_to_date(time):\n",
    "    if len(time) < 10:\n",
    "        return None\n",
    "    else:\n",
    "        return datetime.datetime.strptime(time,'%Y-%m-%d')"
   ]
  },
  {
   "cell_type": "code",
   "execution_count": 13,
   "metadata": {},
   "outputs": [],
   "source": [
    "movies = movies.dropna(subset=['release_date'])\n",
    "movies['release_date'] = movies['release_date'].apply(str_to_date)\n",
    "movies['release_year'] = movies['release_date'].dt.year"
   ]
  },
  {
   "attachments": {},
   "cell_type": "markdown",
   "metadata": {},
   "source": [
    "Se crea la columna con el retorno de inversión, llamada return con los campos revenue y budget, dividiendo estas dos últimas revenue / budget, cuando no hay datos disponibles para calcularlo, se retorna cero tomar el valor 0."
   ]
  },
  {
   "cell_type": "code",
   "execution_count": 14,
   "metadata": {},
   "outputs": [],
   "source": [
    "movies['return'] = round(movies['revenue'] / movies['budget'], 6) #división\n",
    "movies['return'] = movies['return'].fillna(0) #retornar cero en los nulos\n",
    "movies.loc[movies['return']==np.inf, 'return'] = 0 #retornar cero en los inf\n",
    "movies['Director'] = movies['Director'].apply(lambda x: ' '.join(x)) #convertir a String\n",
    "movies['cast'] = movies['cast'].apply(lambda x: ' '.join(x)) #convertir a String"
   ]
  },
  {
   "attachments": {},
   "cell_type": "markdown",
   "metadata": {},
   "source": [
    "Creación de las funciones\n",
    "\n",
    "Funcion 1:\n",
    "\n",
    "def cantidad_filmaciones_mes( Mes ): Se ingresa un mes en idioma Español. Debe devolver la cantidad de películas que fueron estrenadas \n",
    "en el mes consultado en la totalidad del dataset."
   ]
  },
  {
   "cell_type": "code",
   "execution_count": 15,
   "metadata": {},
   "outputs": [],
   "source": [
    "def cnt_of_films_month(Mes):\n",
    "    \n",
    "    months = [\"enero\", \"febrero\", \"marzo\", \"abril\", \"mayo\"\n",
    "          , \"junio\", \"julio\", \"agosto\", \"septiembre\", \n",
    "          \"octubre\", \"noviembre\", \"diciembre\"]\n",
    "\n",
    "    Mes1 = Mes.lower()\n",
    "    for j in months:\n",
    "\n",
    "        if Mes1 == j:\n",
    "            c = months.index(j) + 1\n",
    "\n",
    "    a = 0\n",
    "    for mes in movies['release_date'].dt.month:\n",
    "        if mes == c:\n",
    "            a = a+1\n",
    "\n",
    "    return (a) "
   ]
  },
  {
   "cell_type": "code",
   "execution_count": 16,
   "metadata": {},
   "outputs": [
    {
     "name": "stdout",
     "output_type": "stream",
     "text": [
      "3549\n"
     ]
    }
   ],
   "source": [
    "#Prueba de la función\n",
    "Mes = 'Marzo'\n",
    "result = cnt_of_films_month(Mes)\n",
    "print(result)"
   ]
  },
  {
   "attachments": {},
   "cell_type": "markdown",
   "metadata": {},
   "source": [
    "Función 2\n",
    "\n",
    "def cantidad_filmaciones_dia( Dia ): Se ingresa un día en idioma Español. Debe devolver la cantidad de películas que fueron estrenadas en día consultado en la totalidad del dataset."
   ]
  },
  {
   "cell_type": "code",
   "execution_count": 17,
   "metadata": {},
   "outputs": [],
   "source": [
    "def cnt_of_films_day(Dia):\n",
    "\n",
    "    days = ['lunes', 'martes', 'miercoles', 'jueves', 'viernes','sabado','domingo']\n",
    "    Dia1 = Dia.lower()\n",
    "    for k in days:\n",
    "        if k == Dia1:\n",
    "            c = days.index(k)\n",
    "    \n",
    "    b=0\n",
    "    for day in movies['release_date'].dt.weekday:\n",
    "        if day == c:\n",
    "            b = b+1\n",
    "\n",
    "    return (b) "
   ]
  },
  {
   "cell_type": "code",
   "execution_count": 18,
   "metadata": {},
   "outputs": [
    {
     "name": "stdout",
     "output_type": "stream",
     "text": [
      "7027\n"
     ]
    }
   ],
   "source": [
    "#Prueba de la función\n",
    "Dia = 'miercoles'\n",
    "retorno = cnt_of_films_day(Dia)\n",
    "print(retorno)"
   ]
  },
  {
   "attachments": {},
   "cell_type": "markdown",
   "metadata": {},
   "source": [
    "Funcion 3:\n",
    "\n",
    "def score_titulo( titulo_de_la_filmación ): Se ingresa el título de una filmación esperando como respuesta el título, el año de estreno y el score."
   ]
  },
  {
   "cell_type": "code",
   "execution_count": 19,
   "metadata": {},
   "outputs": [],
   "source": [
    "def score_title(Titulo):\n",
    "    a = 0\n",
    "    Titulo = Titulo.lower()\n",
    "    for film in movies['title']:\n",
    "        if film.lower() == Titulo:\n",
    "            x = movies[['release_date','title','popularity']].loc[movies['title'] == film]\n",
    "            a += 1 \n",
    "    \n",
    "    print('Existen', a, 'Filmes con el título seleccionado: ')\n",
    "    return x"
   ]
  },
  {
   "cell_type": "code",
   "execution_count": 20,
   "metadata": {},
   "outputs": [
    {
     "name": "stdout",
     "output_type": "stream",
     "text": [
      "Existen 4 Filmes con el título seleccionado: \n",
      "      release_date       title popularity\n",
      "2916    1973-11-08  Robin Hood  11.179855\n",
      "12259   1922-08-18  Robin Hood   0.611926\n",
      "15196   2010-05-12  Robin Hood   10.56812\n",
      "45426   1991-05-13  Robin Hood   5.683753\n"
     ]
    }
   ],
   "source": [
    "#Prueba de la función\n",
    "Titulo = 'Robin Hood'\n",
    "filme = score_title(Titulo)\n",
    "print(filme)"
   ]
  },
  {
   "attachments": {},
   "cell_type": "markdown",
   "metadata": {},
   "source": [
    "Función 4:\n",
    "\n",
    "def votos_titulo( titulo_de_la_filmación ): Se ingresa el título de una filmación esperando como respuesta el título, la cantidad de votos y el valor promedio de las votaciones. La misma variable deberá de contar con al menos 2000 valoraciones, caso contrario, debemos contar con un mensaje avisando que no cumple esta condición y que por ende, no se devuelve ningun valor."
   ]
  },
  {
   "cell_type": "code",
   "execution_count": 21,
   "metadata": {},
   "outputs": [],
   "source": [
    "def vote_title(Titulo_filmacion):\n",
    "    \n",
    "    Titulo_filmacion = Titulo_filmacion.lower()\n",
    "    a = 0\n",
    "    for film in movies['title']:\n",
    "        if film.lower() == Titulo_filmacion:\n",
    "            x = movies[['title','vote_count','vote_average']].loc[movies['title'] == film]\n",
    "            a = a + 1  \n",
    "\n",
    "    if a > 1:\n",
    "        if (x['vote_count'].sum() >= 2000):\n",
    "            y = x['vote_count'].sum()\n",
    "            z = x['vote_average'].mean()\n",
    "            return f'la cantidad de votos de los {a} filmes es de {round(y)} con un promedio de votación de {z}'\n",
    "        else:\n",
    "            return 'No es posible hacer el calculo ya que la suma de votos es menor a 2000'\n",
    "    else:\n",
    "        if x['vote_count'].values[0] >= 2000:\n",
    "            y = x['vote_count'].values[0]\n",
    "            z = x['vote_average'].values[0]\n",
    "            return f'La cantidad de votos del filme es de {round(y)} con un promedio de votación de {z}'\n",
    "        else:\n",
    "            return 'No es posible hacer el calculo ya que la suma de votos es menor a 2000'"
   ]
  },
  {
   "cell_type": "code",
   "execution_count": 22,
   "metadata": {},
   "outputs": [
    {
     "name": "stdout",
     "output_type": "stream",
     "text": [
      "la cantidad de votos de los 4 filmes es de 2623 con un promedio de votación de 6.2\n"
     ]
    }
   ],
   "source": [
    "#Prueba de la función\n",
    "Titulo_filmacion = 'Robin Hood'\n",
    "result1 = vote_title(Titulo_filmacion)\n",
    "print(result1)"
   ]
  },
  {
   "attachments": {},
   "cell_type": "markdown",
   "metadata": {},
   "source": [
    "Función 5:\n",
    "\n",
    "def get_actor( nombre_actor ): Se ingresa el nombre de un actor que se encuentre dentro de un dataset debiendo devolver el éxito del mismo medido a través del retorno. Además, la cantidad de películas que en las que ha participado y el promedio de retorno. La definición no deberá considerar directores."
   ]
  },
  {
   "cell_type": "code",
   "execution_count": 23,
   "metadata": {},
   "outputs": [],
   "source": [
    "def get_actor(nombre_actor1):\n",
    "    nombre_actor = nombre_actor1.replace(' ', '')\n",
    "    actor_films = movies[movies['cast'].str.contains(nombre_actor, case=False)]['return']\n",
    "    cant_movies = actor_films.count()\n",
    "    return_t = actor_films.sum()\n",
    "    avg_return = return_t / cant_movies\n",
    "    if cant_movies > 0:\n",
    "        return f\"El actor {nombre_actor1} ha participado en {cant_movies} películas. Su retorno total es {round(return_t, 1)} con un promedio de {round(avg_return, 1)} por película.\"\n",
    "    else:\n",
    "        return f\"No se encontraron registros para el actor {nombre_actor1}.\"\n",
    "  "
   ]
  },
  {
   "cell_type": "code",
   "execution_count": 24,
   "metadata": {},
   "outputs": [
    {
     "name": "stdout",
     "output_type": "stream",
     "text": [
      "El actor Tom Hanks ha participado en 58 películas. Su retorno total es 167.8 con un promedio de 2.9 por película.\n"
     ]
    }
   ],
   "source": [
    "nombre_actor = 'Tom Hanks'\n",
    "resultado = get_actor(nombre_actor)\n",
    "print(resultado)"
   ]
  },
  {
   "attachments": {},
   "cell_type": "markdown",
   "metadata": {},
   "source": [
    "Funcion 6:\n",
    "def get_director( nombre_director ): Se ingresa el nombre de un director que se encuentre dentro de un dataset debiendo devolver el éxito del mismo medido a través del retorno. Además, deberá devolver el nombre de cada película con la fecha de lanzamiento, retorno individual, costo y ganancia de la misma.\n"
   ]
  },
  {
   "cell_type": "code",
   "execution_count": 25,
   "metadata": {},
   "outputs": [],
   "source": [
    "def get_director(nombre_director1):\n",
    "    nombre_director = nombre_director1.replace(' ', '')\n",
    "    films_dire = movies[movies['Director'].str.contains(nombre_director, case=False)]\n",
    "    cant_movies = films_dire.shape[0]\n",
    "\n",
    "    if cant_movies > 0:\n",
    "        return_t = films_dire['return'].sum()\n",
    "        dir_sucess = return_t / cant_movies\n",
    "        films = films_dire[['title', 'release_date', 'return', 'budget', 'revenue']]\n",
    "        films = films.reset_index(drop=True)\n",
    "        print(f\"El director {nombre_director} ha dirigido {cant_movies} películas. Su éxito a generado un retorno promedio de {dir_sucess:.2f} por pelicula. Las películas dirigidas son:\")\n",
    "        return films\n",
    "    else:\n",
    "        return f\"No se encontraron registros para el director {nombre_director}.\"\n",
    "\n"
   ]
  },
  {
   "cell_type": "code",
   "execution_count": 26,
   "metadata": {},
   "outputs": [
    {
     "name": "stdout",
     "output_type": "stream",
     "text": [
      "El director ForestWhitaker ha dirigido 4 películas. Su éxito a generado un retorno promedio de 1.27 por pelicula. Las películas dirigidas son:\n",
      "               title release_date   return      budget     revenue\n",
      "0  Waiting to Exhale   1995-12-22  5.09076  16000000.0  81452156.0\n",
      "1        Hope Floats   1998-05-29  0.00000         0.0         0.0\n",
      "2     First Daughter   2004-09-24  0.00000  30000000.0         0.0\n",
      "3           Strapped   1993-08-21  0.00000         0.0         0.0\n"
     ]
    }
   ],
   "source": [
    "nombre = \"Forest Whitaker\"\n",
    "result = get_director(nombre)\n",
    "print(result)"
   ]
  },
  {
   "cell_type": "code",
   "execution_count": 27,
   "metadata": {},
   "outputs": [],
   "source": [
    "movies['spoken_languages'] = movies['spoken_languages'].apply(convert)\n",
    "movies['popularity'] = movies['popularity'].astype(float)"
   ]
  },
  {
   "attachments": {},
   "cell_type": "markdown",
   "metadata": {},
   "source": [
    "Ya los datos están limpios, ahora es tiempo de investigar las relaciones que hay entre las variables de los datasets, ver si hay outliers o anomalías (que no tienen que ser errores necesariamente 👀 ), y ver si hay algún patrón interesante que valga la pena explorar en un análisis posterior. Las nubes de palabras dan una buena idea de cuáles palabras son más frecuentes en los títulos, ¡podría ayudar al sistema de recomendación! Sabes que puedes apoyarte en librerías como pandas profiling, missingno, sweetviz, autoviz, entre otros y sacar de allí tus conclusiones "
   ]
  },
  {
   "cell_type": "code",
   "execution_count": 28,
   "metadata": {},
   "outputs": [],
   "source": [
    "movies['genres'] = movies['genres'].apply(lambda x: ' '.join(x)) \n",
    "movies['tags'] =  movies['overview'] + movies['genres'] + ' '+ movies['cast'] + movies['Director']\n",
    "movies_new = movies[['id', 'title', 'tags']]\n",
    "movies_new = movies_new.dropna(subset=['tags'])"
   ]
  },
  {
   "cell_type": "code",
   "execution_count": 29,
   "metadata": {},
   "outputs": [],
   "source": [
    "from nltk.stem.porter import PorterStemmer\n",
    "ps = PorterStemmer()\n"
   ]
  },
  {
   "cell_type": "code",
   "execution_count": 30,
   "metadata": {},
   "outputs": [],
   "source": [
    "def stem(text):\n",
    "    list1 = []\n",
    "    for i in text.split():\n",
    "        list1.append(ps.stem(i))\n",
    "    \n",
    "    return \" \".join(list1)"
   ]
  },
  {
   "cell_type": "code",
   "execution_count": 31,
   "metadata": {},
   "outputs": [],
   "source": [
    "movies_new['tags'] = movies_new['tags'].apply(stem)\n",
    "movies_p = movies_new.head(20000) #selecciono una muestra de 20000"
   ]
  },
  {
   "cell_type": "code",
   "execution_count": 32,
   "metadata": {},
   "outputs": [
    {
     "data": {
      "text/plain": [
       "array(['000', '10', '100', ..., 'zoo', 'zooeydeschanel', 'моррисчестнат'],\n",
       "      dtype=object)"
      ]
     },
     "execution_count": 32,
     "metadata": {},
     "output_type": "execute_result"
    }
   ],
   "source": [
    "from sklearn.feature_extraction.text import CountVectorizer\n",
    "cv = CountVectorizer(max_features= 9000, stop_words='english')\n",
    "vector = cv.fit_transform(movies_p['tags']).toarray()\n",
    "cv.get_feature_names_out()"
   ]
  },
  {
   "cell_type": "code",
   "execution_count": 33,
   "metadata": {},
   "outputs": [],
   "source": [
    "from sklearn.metrics.pairwise import cosine_similarity\n",
    "similarity = cosine_similarity(vector)"
   ]
  },
  {
   "cell_type": "code",
   "execution_count": 39,
   "metadata": {},
   "outputs": [],
   "source": [
    "def movie_recommend(movie):\n",
    "    movie_index = movies_p[movies_p['title']  == movie].index[0]\n",
    "    distances = similarity[movie_index]\n",
    "    movie_list = sorted(list(enumerate(distances)),reverse = True, key = lambda x:x[1])[1:6]\n",
    "    listM = []\n",
    "    for i in movie_list:\n",
    "        \n",
    "        j = movies_p.iloc[i[0]].title\n",
    "        listM.append(j)\n",
    "    \n",
    "    return listM\n"
   ]
  },
  {
   "cell_type": "code",
   "execution_count": 41,
   "metadata": {},
   "outputs": [
    {
     "data": {
      "text/plain": [
       "['Toy Story 2',\n",
       " 'Toy Story 3',\n",
       " 'Walk Like a Man',\n",
       " 'Happiness Is a Warm Blanket, Charlie Brown',\n",
       " 'Carried Away']"
      ]
     },
     "execution_count": 41,
     "metadata": {},
     "output_type": "execute_result"
    }
   ],
   "source": [
    "movie_recommend(\"Toy Story\")"
   ]
  }
 ],
 "metadata": {
  "kernelspec": {
   "display_name": "Python 3",
   "language": "python",
   "name": "python3"
  },
  "language_info": {
   "codemirror_mode": {
    "name": "ipython",
    "version": 3
   },
   "file_extension": ".py",
   "mimetype": "text/x-python",
   "name": "python",
   "nbconvert_exporter": "python",
   "pygments_lexer": "ipython3",
   "version": "3.11.3"
  },
  "orig_nbformat": 4
 },
 "nbformat": 4,
 "nbformat_minor": 2
}
